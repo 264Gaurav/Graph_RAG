{
  "cells": [
    {
      "cell_type": "code",
      "execution_count": 1,
      "metadata": {
        "id": "8hMhYUWPGlWp"
      },
      "outputs": [],
      "source": [
        "!pip install --upgrade --quiet  langchain langchain-community langchain-groq neo4j"
      ]
    },
    {
      "cell_type": "code",
      "execution_count": 2,
      "metadata": {
        "id": "X1RSvk9zhUqt"
      },
      "outputs": [],
      "source": [
        "import os\n",
        "NEO4J_URI = os.environ.get(\"NEO4J_URI\")\n",
        "NEO4J_USERNAME = os.environ.get(\"NEO4J_USERNAME\")\n",
        "NEO4J_PASSWORD = os.environ.get(\"NEO4J_PASSWORD\")"
      ]
    },
    {
      "cell_type": "code",
      "execution_count": 3,
      "metadata": {
        "colab": {
          "base_uri": "https://localhost:8080/"
        },
        "id": "bgWDCKUgi0GF",
        "outputId": "826fb363-6a54-4cb8-ae7f-9bd8bf51c8e2"
      },
      "outputs": [
        {
          "name": "stdout",
          "output_type": "stream",
          "text": [
            "Neo4j environment variables not set. Attempting to load from Google Colab Secrets Manager.\n"
          ]
        },
        {
          "name": "stderr",
          "output_type": "stream",
          "text": [
            "/tmp/ipython-input-413762313.py:22: LangChainDeprecationWarning: The class `Neo4jGraph` was deprecated in LangChain 0.3.8 and will be removed in 1.0. An updated version of the class exists in the :class:`~langchain-neo4j package and should be used instead. To use it run `pip install -U :class:`~langchain-neo4j` and import as `from :class:`~langchain_neo4j import Neo4jGraph``.\n",
            "  graph=Neo4jGraph(\n"
          ]
        }
      ],
      "source": [
        "from langchain_community.graphs import Neo4jGraph\n",
        "from google.colab import userdata\n",
        "\n",
        "\n",
        "# If environment variables are not set, try Google Colab Secrets Manager\n",
        "if not all([NEO4J_URI, NEO4J_USERNAME, NEO4J_PASSWORD]):\n",
        "    print(\"Neo4j environment variables not set. Attempting to load from Google Colab Secrets Manager.\")\n",
        "    try:\n",
        "        NEO4J_URI = userdata.get(\"NEO4J_URI\")\n",
        "        NEO4J_USERNAME = userdata.get(\"NEO4J_USERNAME\")\n",
        "        NEO4J_PASSWORD = userdata.get(\"NEO4J_PASSWORD\")\n",
        "    except userdata.SecretNotFoundError as e:\n",
        "        print(f\"Secret not found: {e}. Please add your Neo4j URI, username, and password to Colab Secrets Manager.\")\n",
        "    except Exception as e:\n",
        "        print(f\"An unexpected error occurred while retrieving secrets: {e}\")\n",
        "\n",
        "\n",
        "# Check again if variables are set after attempting to load from secrets\n",
        "if not all([NEO4J_URI, NEO4J_USERNAME, NEO4J_PASSWORD]):\n",
        "    raise ValueError(\"Neo4j credentials not found. Please set NEO4J_URI, NEO4J_USERNAME, and NEO4J_PASSWORD either as environment variables or in Colab Secrets Manager.\")\n",
        "\n",
        "graph=Neo4jGraph(\n",
        "    url=NEO4J_URI,\n",
        "    username=NEO4J_USERNAME,\n",
        "    password=NEO4J_PASSWORD,\n",
        ")"
      ]
    },
    {
      "cell_type": "code",
      "execution_count": 4,
      "metadata": {
        "colab": {
          "base_uri": "https://localhost:8080/"
        },
        "id": "qZUwLt2Xi9x5",
        "outputId": "f44800b6-5af2-4d7b-8410-346b77fc669c"
      },
      "outputs": [
        {
          "data": {
            "text/plain": [
              "<langchain_community.graphs.neo4j_graph.Neo4jGraph at 0x7fe7a0727950>"
            ]
          },
          "execution_count": 4,
          "metadata": {},
          "output_type": "execute_result"
        }
      ],
      "source": [
        "graph"
      ]
    },
    {
      "cell_type": "code",
      "execution_count": 5,
      "metadata": {
        "id": "O6ecrwLhjCfF"
      },
      "outputs": [],
      "source": [
        "import os\n",
        "GROQ_API_KEY = os.environ.get(\"GROQ_API_KEY\")\n",
        "if not GROQ_API_KEY:\n",
        "    GROQ_API_KEY = userdata.get(\"GROQ_API_KEY\")"
      ]
    },
    {
      "cell_type": "code",
      "execution_count": 6,
      "metadata": {
        "colab": {
          "base_uri": "https://localhost:8080/"
        },
        "id": "iMIsIxL6kCLw",
        "outputId": "42c4fccd-b7d8-4c5d-a454-6c989ccfa1a5"
      },
      "outputs": [
        {
          "data": {
            "text/plain": [
              "ChatGroq(client=<groq.resources.chat.completions.Completions object at 0x7fe77b933e90>, async_client=<groq.resources.chat.completions.AsyncCompletions object at 0x7fe77b7eb290>, model_name='Gemma2-9b-It', model_kwargs={}, groq_api_key=SecretStr('**********'))"
            ]
          },
          "execution_count": 6,
          "metadata": {},
          "output_type": "execute_result"
        }
      ],
      "source": [
        "from langchain_groq import ChatGroq\n",
        "\n",
        "llm=ChatGroq(api_key=GROQ_API_KEY,model_name=\"Gemma2-9b-It\")\n",
        "llm"
      ]
    },
    {
      "cell_type": "code",
      "execution_count": 7,
      "metadata": {
        "colab": {
          "base_uri": "https://localhost:8080/"
        },
        "id": "BbpX78_IkEz7",
        "outputId": "fedfb586-5492-492a-a983-6c038ca8bb9a"
      },
      "outputs": [
        {
          "data": {
            "text/plain": [
              "[Document(metadata={}, page_content=\"\\nElon Reeve Musk (born June 28, 1971) is a businessman and investor known for his key roles in space\\ncompany SpaceX and automotive company Tesla, Inc. Other involvements include ownership of X Corp.,\\nformerly Twitter, and his role in the founding of The Boring Company, xAI, Neuralink and OpenAI.\\nHe is one of the wealthiest people in the world; as of July 2024, Forbes estimates his net worth to be\\nUS$221 billion.Musk was born in Pretoria to Maye and engineer Errol Musk, and briefly attended\\nthe University of Pretoria before immigrating to Canada at age 18, acquiring citizenship through\\nhis Canadian-born mother. Two years later, he matriculated at Queen's University at Kingston in Canada.\\nMusk later transferred to the University of Pennsylvania and received bachelor's degrees in economics\\n and physics. He moved to California in 1995 to attend Stanford University, but dropped out after\\n  two days and, with his brother Kimbal, co-founded online city guide software company Zip2.\\n \")]"
            ]
          },
          "execution_count": 7,
          "metadata": {},
          "output_type": "execute_result"
        }
      ],
      "source": [
        "from langchain_core.documents import Document\n",
        "text=\"\"\"\n",
        "Elon Reeve Musk (born June 28, 1971) is a businessman and investor known for his key roles in space\n",
        "company SpaceX and automotive company Tesla, Inc. Other involvements include ownership of X Corp.,\n",
        "formerly Twitter, and his role in the founding of The Boring Company, xAI, Neuralink and OpenAI.\n",
        "He is one of the wealthiest people in the world; as of July 2024, Forbes estimates his net worth to be\n",
        "US$221 billion.Musk was born in Pretoria to Maye and engineer Errol Musk, and briefly attended\n",
        "the University of Pretoria before immigrating to Canada at age 18, acquiring citizenship through\n",
        "his Canadian-born mother. Two years later, he matriculated at Queen's University at Kingston in Canada.\n",
        "Musk later transferred to the University of Pennsylvania and received bachelor's degrees in economics\n",
        " and physics. He moved to California in 1995 to attend Stanford University, but dropped out after\n",
        "  two days and, with his brother Kimbal, co-founded online city guide software company Zip2.\n",
        " \"\"\"\n",
        "documents=[Document(page_content=text)]\n",
        "documents"
      ]
    },
    {
      "cell_type": "code",
      "execution_count": 8,
      "metadata": {
        "id": "gVNE_yTJkOkf"
      },
      "outputs": [],
      "source": [
        "!pip install --upgrade --quiet langchain_experimental"
      ]
    },
    {
      "cell_type": "code",
      "execution_count": 9,
      "metadata": {
        "id": "UcaaKHCTkp0T"
      },
      "outputs": [],
      "source": [
        "## This creates a transformer that can convert text documents into a graph representation using the specified language model.\n",
        "from langchain_experimental.graph_transformers import LLMGraphTransformer\n",
        "llm_transformer=LLMGraphTransformer(llm=llm)"
      ]
    },
    {
      "cell_type": "code",
      "execution_count": 10,
      "metadata": {
        "id": "aDZC2Camkzp5"
      },
      "outputs": [],
      "source": [
        "## To convert the documents list into a list of GraphDocument objects.\n",
        "graph_documents=llm_transformer.convert_to_graph_documents(documents)"
      ]
    },
    {
      "cell_type": "code",
      "execution_count": 11,
      "metadata": {
        "colab": {
          "base_uri": "https://localhost:8080/"
        },
        "id": "UBPb6zP8k3Xi",
        "outputId": "ebb94f66-a5b4-4432-dbc4-955959de1efe"
      },
      "outputs": [
        {
          "data": {
            "text/plain": [
              "[GraphDocument(nodes=[Node(id='Elon Reeve Musk', type='Person', properties={}), Node(id='Spacex', type='Company', properties={}), Node(id='Tesla, Inc.', type='Company', properties={}), Node(id='X Corp.', type='Company', properties={}), Node(id='Twitter', type='Company', properties={}), Node(id='The Boring Company', type='Company', properties={}), Node(id='Xai', type='Company', properties={}), Node(id='Neuralink', type='Company', properties={}), Node(id='Openai', type='Company', properties={}), Node(id='Maye', type='Person', properties={}), Node(id='Errol Musk', type='Person', properties={}), Node(id='University Of Pretoria', type='University', properties={}), Node(id='Canada', type='Country', properties={}), Node(id=\"Queen'S University\", type='University', properties={}), Node(id='University Of Pennsylvania', type='University', properties={}), Node(id='California', type='State', properties={}), Node(id='Stanford University', type='University', properties={}), Node(id='Zip2', type='Company', properties={}), Node(id='Kimbal', type='Person', properties={})], relationships=[Relationship(source=Node(id='Elon Reeve Musk', type='Person', properties={}), target=Node(id='Spacex', type='Company', properties={}), type='CEO', properties={}), Relationship(source=Node(id='Elon Reeve Musk', type='Person', properties={}), target=Node(id='Tesla, Inc.', type='Company', properties={}), type='CEO', properties={}), Relationship(source=Node(id='Elon Reeve Musk', type='Person', properties={}), target=Node(id='X Corp.', type='Company', properties={}), type='OWNER', properties={}), Relationship(source=Node(id='X Corp.', type='Company', properties={}), target=Node(id='Twitter', type='Company', properties={}), type='PREVIOUSOWNER', properties={}), Relationship(source=Node(id='Elon Reeve Musk', type='Person', properties={}), target=Node(id='The Boring Company', type='Company', properties={}), type='FOUNDER', properties={}), Relationship(source=Node(id='Elon Reeve Musk', type='Person', properties={}), target=Node(id='Xai', type='Company', properties={}), type='FOUNDER', properties={}), Relationship(source=Node(id='Elon Reeve Musk', type='Person', properties={}), target=Node(id='Neuralink', type='Company', properties={}), type='FOUNDER', properties={}), Relationship(source=Node(id='Elon Reeve Musk', type='Person', properties={}), target=Node(id='Openai', type='Company', properties={}), type='FOUNDER', properties={}), Relationship(source=Node(id='Elon Reeve Musk', type='Person', properties={}), target=Node(id='Maye', type='Person', properties={}), type='MOTHER', properties={}), Relationship(source=Node(id='Elon Reeve Musk', type='Person', properties={}), target=Node(id='Errol Musk', type='Person', properties={}), type='FATHER', properties={}), Relationship(source=Node(id='Elon Reeve Musk', type='Person', properties={}), target=Node(id='University Of Pretoria', type='University', properties={}), type='ATTENDED', properties={}), Relationship(source=Node(id='Elon Reeve Musk', type='Person', properties={}), target=Node(id='Canada', type='Country', properties={}), type='IMMIGRATEDTO', properties={}), Relationship(source=Node(id='Elon Reeve Musk', type='Person', properties={}), target=Node(id=\"Queen'S University\", type='University', properties={}), type='ATTENDED', properties={}), Relationship(source=Node(id='Elon Reeve Musk', type='Person', properties={}), target=Node(id='University Of Pennsylvania', type='University', properties={}), type='ATTENDED', properties={}), Relationship(source=Node(id='Elon Reeve Musk', type='Person', properties={}), target=Node(id='California', type='State', properties={}), type='MOVEDTO', properties={}), Relationship(source=Node(id='Elon Reeve Musk', type='Person', properties={}), target=Node(id='Stanford University', type='University', properties={}), type='ATTENDED', properties={}), Relationship(source=Node(id='Elon Reeve Musk', type='Person', properties={}), target=Node(id='Kimbal', type='Person', properties={}), type='BROTHER', properties={}), Relationship(source=Node(id='Elon Reeve Musk', type='Person', properties={}), target=Node(id='Zip2', type='Company', properties={}), type='COFOUNDER', properties={})], source=Document(metadata={}, page_content=\"\\nElon Reeve Musk (born June 28, 1971) is a businessman and investor known for his key roles in space\\ncompany SpaceX and automotive company Tesla, Inc. Other involvements include ownership of X Corp.,\\nformerly Twitter, and his role in the founding of The Boring Company, xAI, Neuralink and OpenAI.\\nHe is one of the wealthiest people in the world; as of July 2024, Forbes estimates his net worth to be\\nUS$221 billion.Musk was born in Pretoria to Maye and engineer Errol Musk, and briefly attended\\nthe University of Pretoria before immigrating to Canada at age 18, acquiring citizenship through\\nhis Canadian-born mother. Two years later, he matriculated at Queen's University at Kingston in Canada.\\nMusk later transferred to the University of Pennsylvania and received bachelor's degrees in economics\\n and physics. He moved to California in 1995 to attend Stanford University, but dropped out after\\n  two days and, with his brother Kimbal, co-founded online city guide software company Zip2.\\n \"))]"
            ]
          },
          "execution_count": 11,
          "metadata": {},
          "output_type": "execute_result"
        }
      ],
      "source": [
        "graph_documents"
      ]
    },
    {
      "cell_type": "code",
      "execution_count": 12,
      "metadata": {
        "colab": {
          "base_uri": "https://localhost:8080/"
        },
        "id": "5ytpfy0glB5t",
        "outputId": "bdb2488b-3af4-4959-8389-7c811107c35e"
      },
      "outputs": [
        {
          "data": {
            "text/plain": [
              "[Node(id='Elon Reeve Musk', type='Person', properties={}),\n",
              " Node(id='Spacex', type='Company', properties={}),\n",
              " Node(id='Tesla, Inc.', type='Company', properties={}),\n",
              " Node(id='X Corp.', type='Company', properties={}),\n",
              " Node(id='Twitter', type='Company', properties={}),\n",
              " Node(id='The Boring Company', type='Company', properties={}),\n",
              " Node(id='Xai', type='Company', properties={}),\n",
              " Node(id='Neuralink', type='Company', properties={}),\n",
              " Node(id='Openai', type='Company', properties={}),\n",
              " Node(id='Maye', type='Person', properties={}),\n",
              " Node(id='Errol Musk', type='Person', properties={}),\n",
              " Node(id='University Of Pretoria', type='University', properties={}),\n",
              " Node(id='Canada', type='Country', properties={}),\n",
              " Node(id=\"Queen'S University\", type='University', properties={}),\n",
              " Node(id='University Of Pennsylvania', type='University', properties={}),\n",
              " Node(id='California', type='State', properties={}),\n",
              " Node(id='Stanford University', type='University', properties={}),\n",
              " Node(id='Zip2', type='Company', properties={}),\n",
              " Node(id='Kimbal', type='Person', properties={})]"
            ]
          },
          "execution_count": 12,
          "metadata": {},
          "output_type": "execute_result"
        }
      ],
      "source": [
        "graph_documents[0].nodes"
      ]
    },
    {
      "cell_type": "code",
      "execution_count": 13,
      "metadata": {
        "colab": {
          "base_uri": "https://localhost:8080/"
        },
        "id": "ln0MPsEolePS",
        "outputId": "ae3dbecf-5ad6-4844-ce8e-a92557766064"
      },
      "outputs": [
        {
          "data": {
            "text/plain": [
              "[Relationship(source=Node(id='Elon Reeve Musk', type='Person', properties={}), target=Node(id='Spacex', type='Company', properties={}), type='CEO', properties={}),\n",
              " Relationship(source=Node(id='Elon Reeve Musk', type='Person', properties={}), target=Node(id='Tesla, Inc.', type='Company', properties={}), type='CEO', properties={}),\n",
              " Relationship(source=Node(id='Elon Reeve Musk', type='Person', properties={}), target=Node(id='X Corp.', type='Company', properties={}), type='OWNER', properties={}),\n",
              " Relationship(source=Node(id='X Corp.', type='Company', properties={}), target=Node(id='Twitter', type='Company', properties={}), type='PREVIOUSOWNER', properties={}),\n",
              " Relationship(source=Node(id='Elon Reeve Musk', type='Person', properties={}), target=Node(id='The Boring Company', type='Company', properties={}), type='FOUNDER', properties={}),\n",
              " Relationship(source=Node(id='Elon Reeve Musk', type='Person', properties={}), target=Node(id='Xai', type='Company', properties={}), type='FOUNDER', properties={}),\n",
              " Relationship(source=Node(id='Elon Reeve Musk', type='Person', properties={}), target=Node(id='Neuralink', type='Company', properties={}), type='FOUNDER', properties={}),\n",
              " Relationship(source=Node(id='Elon Reeve Musk', type='Person', properties={}), target=Node(id='Openai', type='Company', properties={}), type='FOUNDER', properties={}),\n",
              " Relationship(source=Node(id='Elon Reeve Musk', type='Person', properties={}), target=Node(id='Maye', type='Person', properties={}), type='MOTHER', properties={}),\n",
              " Relationship(source=Node(id='Elon Reeve Musk', type='Person', properties={}), target=Node(id='Errol Musk', type='Person', properties={}), type='FATHER', properties={}),\n",
              " Relationship(source=Node(id='Elon Reeve Musk', type='Person', properties={}), target=Node(id='University Of Pretoria', type='University', properties={}), type='ATTENDED', properties={}),\n",
              " Relationship(source=Node(id='Elon Reeve Musk', type='Person', properties={}), target=Node(id='Canada', type='Country', properties={}), type='IMMIGRATEDTO', properties={}),\n",
              " Relationship(source=Node(id='Elon Reeve Musk', type='Person', properties={}), target=Node(id=\"Queen'S University\", type='University', properties={}), type='ATTENDED', properties={}),\n",
              " Relationship(source=Node(id='Elon Reeve Musk', type='Person', properties={}), target=Node(id='University Of Pennsylvania', type='University', properties={}), type='ATTENDED', properties={}),\n",
              " Relationship(source=Node(id='Elon Reeve Musk', type='Person', properties={}), target=Node(id='California', type='State', properties={}), type='MOVEDTO', properties={}),\n",
              " Relationship(source=Node(id='Elon Reeve Musk', type='Person', properties={}), target=Node(id='Stanford University', type='University', properties={}), type='ATTENDED', properties={}),\n",
              " Relationship(source=Node(id='Elon Reeve Musk', type='Person', properties={}), target=Node(id='Kimbal', type='Person', properties={}), type='BROTHER', properties={}),\n",
              " Relationship(source=Node(id='Elon Reeve Musk', type='Person', properties={}), target=Node(id='Zip2', type='Company', properties={}), type='COFOUNDER', properties={})]"
            ]
          },
          "execution_count": 13,
          "metadata": {},
          "output_type": "execute_result"
        }
      ],
      "source": [
        "graph_documents[0].relationships"
      ]
    },
    {
      "cell_type": "code",
      "execution_count": 14,
      "metadata": {
        "id": "BYv9iMdklh7N"
      },
      "outputs": [],
      "source": [
        "### Load the dataset of movie from a CSV file and populate a Neo4j graph database with movie-related information.\n",
        "\n",
        "movie_query=\"\"\"\n",
        "LOAD CSV WITH HEADERS FROM\n",
        "'https://raw.githubusercontent.com/tomasonjo/blog-datasets/main/movies/movies_small.csv' as row\n",
        "\n",
        "MERGE(m:Movie{id:row.movieId})\n",
        "SET m.released = date(row.released),\n",
        "    m.title = row.title,\n",
        "    m.imdbRating = toFloat(row.imdbRating)\n",
        "FOREACH (director in split(row.director, '|') |\n",
        "    MERGE (p:Person {name:trim(director)})\n",
        "    MERGE (p)-[:DIRECTED]->(m))\n",
        "FOREACH (actor in split(row.actors, '|') |\n",
        "    MERGE (p:Person {name:trim(actor)})\n",
        "    MERGE (p)-[:ACTED_IN]->(m))\n",
        "FOREACH (genre in split(row.genres, '|') |\n",
        "    MERGE (g:Genre {name:trim(genre)})\n",
        "    MERGE (m)-[:IN_GENRE]->(g))\n",
        "\"\"\""
      ]
    },
    {
      "cell_type": "code",
      "execution_count": 15,
      "metadata": {
        "colab": {
          "base_uri": "https://localhost:8080/"
        },
        "id": "PiWWBVdVmNVm",
        "outputId": "81d42b8a-d9b6-4237-efab-2f6e3a8c412c"
      },
      "outputs": [
        {
          "data": {
            "text/plain": [
              "<langchain_community.graphs.neo4j_graph.Neo4jGraph at 0x7fe7a0727950>"
            ]
          },
          "execution_count": 15,
          "metadata": {},
          "output_type": "execute_result"
        }
      ],
      "source": [
        "graph"
      ]
    },
    {
      "cell_type": "code",
      "execution_count": 16,
      "metadata": {
        "colab": {
          "base_uri": "https://localhost:8080/"
        },
        "id": "0VSZyb6Jm3Ks",
        "outputId": "b31802e0-c488-4a8c-b4e1-833fe27eef94"
      },
      "outputs": [
        {
          "data": {
            "text/plain": [
              "[]"
            ]
          },
          "execution_count": 16,
          "metadata": {},
          "output_type": "execute_result"
        }
      ],
      "source": [
        "##executes the Cypher query stored in the movie_query variable using the graph.query() method.\n",
        "##This will load the movie data from the specified CSV file into your Neo4j database, creating nodes for movies,\n",
        "## people, and genres, and establishing relationships between them as defined in the query.\n",
        "graph.query(movie_query)"
      ]
    },
    {
      "cell_type": "code",
      "execution_count": 17,
      "metadata": {
        "colab": {
          "base_uri": "https://localhost:8080/"
        },
        "id": "sCfcp6IenAye",
        "outputId": "f4ec0d76-d213-4bcf-fbd1-723b5906070d"
      },
      "outputs": [
        {
          "name": "stdout",
          "output_type": "stream",
          "text": [
            "Node properties:\n",
            "Movie {id: STRING, released: DATE, title: STRING, imdbRating: FLOAT}\n",
            "Person {name: STRING}\n",
            "Genre {name: STRING}\n",
            "Relationship properties:\n",
            "\n",
            "The relationships:\n",
            "(:Movie)-[:IN_GENRE]->(:Genre)\n",
            "(:Person)-[:DIRECTED]->(:Movie)\n",
            "(:Person)-[:ACTED_IN]->(:Movie)\n"
          ]
        }
      ],
      "source": [
        "##updates the schema information that the graph object holds about the Neo4j database.\n",
        "graph.refresh_schema()\n",
        "print(graph.schema)"
      ]
    },
    {
      "cell_type": "code",
      "execution_count": 18,
      "metadata": {
        "colab": {
          "base_uri": "https://localhost:8080/"
        },
        "id": "IRl-xp2dnO8U",
        "outputId": "50b73c51-d543-4a38-8e62-0872734a9bd3"
      },
      "outputs": [
        {
          "data": {
            "text/plain": [
              "GraphCypherQAChain(verbose=True, graph=<langchain_community.graphs.neo4j_graph.Neo4jGraph object at 0x7fe7a0727950>, cypher_generation_chain=LLMChain(verbose=False, prompt=PromptTemplate(input_variables=['question', 'schema'], input_types={}, partial_variables={}, template='Task:Generate Cypher statement to query a graph database.\\nInstructions:\\nUse only the provided relationship types and properties in the schema.\\nDo not use any other relationship types or properties that are not provided.\\nSchema:\\n{schema}\\nNote: Do not include any explanations or apologies in your responses.\\nDo not respond to any questions that might ask anything else than for you to construct a Cypher statement.\\nDo not include any text except the generated Cypher statement.\\n\\nThe question is:\\n{question}'), llm=ChatGroq(client=<groq.resources.chat.completions.Completions object at 0x7fe77b933e90>, async_client=<groq.resources.chat.completions.AsyncCompletions object at 0x7fe77b7eb290>, model_name='Gemma2-9b-It', model_kwargs={}, groq_api_key=SecretStr('**********')), output_parser=StrOutputParser(), llm_kwargs={}), qa_chain=LLMChain(verbose=False, prompt=PromptTemplate(input_variables=['context', 'question'], input_types={}, partial_variables={}, template=\"You are an assistant that helps to form nice and human understandable answers.\\nThe information part contains the provided information that you must use to construct an answer.\\nThe provided information is authoritative, you must never doubt it or try to use your internal knowledge to correct it.\\nMake the answer sound as a response to the question. Do not mention that you based the result on the given information.\\nHere is an example:\\n\\nQuestion: Which managers own Neo4j stocks?\\nContext:[manager:CTL LLC, manager:JANE STREET GROUP LLC]\\nHelpful Answer: CTL LLC, JANE STREET GROUP LLC owns Neo4j stocks.\\n\\nFollow this example when generating answers.\\nIf the provided information is empty, say that you don't know the answer.\\nInformation:\\n{context}\\n\\nQuestion: {question}\\nHelpful Answer:\"), llm=ChatGroq(client=<groq.resources.chat.completions.Completions object at 0x7fe77b933e90>, async_client=<groq.resources.chat.completions.AsyncCompletions object at 0x7fe77b7eb290>, model_name='Gemma2-9b-It', model_kwargs={}, groq_api_key=SecretStr('**********')), output_parser=StrOutputParser(), llm_kwargs={}), graph_schema='Node properties are the following:\\nMovie {id: STRING, released: DATE, title: STRING, imdbRating: FLOAT},Person {name: STRING},Genre {name: STRING}\\nRelationship properties are the following:\\n\\nThe relationships are the following:\\n(:Movie)-[:IN_GENRE]->(:Genre),(:Person)-[:DIRECTED]->(:Movie),(:Person)-[:ACTED_IN]->(:Movie)', allow_dangerous_requests=True)"
            ]
          },
          "execution_count": 18,
          "metadata": {},
          "output_type": "execute_result"
        }
      ],
      "source": [
        "## set up a question-answering chain that uses a language model and the Neo4j graph database.\n",
        "from langchain.chains import GraphCypherQAChain\n",
        "chain=GraphCypherQAChain.from_llm(llm=llm,graph=graph,verbose=True, allow_dangerous_requests=True)\n",
        "chain"
      ]
    },
    {
      "cell_type": "code",
      "execution_count": 19,
      "metadata": {
        "colab": {
          "base_uri": "https://localhost:8080/"
        },
        "id": "JjpZ2AveocK7",
        "outputId": "6317a46c-243f-447e-a4b7-393bee179ff2"
      },
      "outputs": [
        {
          "name": "stdout",
          "output_type": "stream",
          "text": [
            "\n",
            "\n",
            "\u001b[1m> Entering new GraphCypherQAChain chain...\u001b[0m\n",
            "Generated Cypher:\n",
            "\u001b[32;1m\u001b[1;3mMATCH (m:Movie {title: \"GoldenEye\"})<-[:DIRECTED]-(p:Person) RETURN p.name  \n",
            "\u001b[0m\n",
            "Full Context:\n",
            "\u001b[32;1m\u001b[1;3m[{'p.name': 'Martin Campbell'}]\u001b[0m\n",
            "\n",
            "\u001b[1m> Finished chain.\u001b[0m\n"
          ]
        },
        {
          "data": {
            "text/plain": [
              "{'query': 'Who was the director of the moview GoldenEye',\n",
              " 'result': 'Martin Campbell  \\n'}"
            ]
          },
          "execution_count": 19,
          "metadata": {},
          "output_type": "execute_result"
        }
      ],
      "source": [
        "response=chain.invoke({\"query\":\"Who was the director of the moview GoldenEye\"})\n",
        "\n",
        "response\n"
      ]
    },
    {
      "cell_type": "code",
      "execution_count": 20,
      "metadata": {
        "colab": {
          "base_uri": "https://localhost:8080/"
        },
        "id": "5Rgaj_yrsezk",
        "outputId": "fb5f16ac-d4f4-4199-a30a-3a66010e30c4"
      },
      "outputs": [
        {
          "name": "stdout",
          "output_type": "stream",
          "text": [
            "\n",
            "\n",
            "\u001b[1m> Entering new GraphCypherQAChain chain...\u001b[0m\n",
            "Generated Cypher:\n",
            "\u001b[32;1m\u001b[1;3mMATCH (m:Movie {title: \"GoldenEye\"})-[:ACTED_IN]->(p:Person) RETURN p.name\u001b[0m\n",
            "Full Context:\n",
            "\u001b[32;1m\u001b[1;3m[]\u001b[0m\n",
            "\n",
            "\u001b[1m> Finished chain.\u001b[0m\n"
          ]
        },
        {
          "data": {
            "text/plain": [
              "{'query': 'List the actors of the moview GoldenEye',\n",
              " 'result': \"I don't know the answer. \\n\"}"
            ]
          },
          "execution_count": 20,
          "metadata": {},
          "output_type": "execute_result"
        }
      ],
      "source": [
        "response=chain.invoke({\"query\":\"List the actors of the moview GoldenEye\"})\n",
        "\n",
        "response\n"
      ]
    },
    {
      "cell_type": "code",
      "execution_count": 20,
      "metadata": {
        "id": "9L_Ong81t4Mh"
      },
      "outputs": [],
      "source": []
    }
  ],
  "metadata": {
    "accelerator": "GPU",
    "colab": {
      "gpuType": "T4",
      "provenance": []
    },
    "kernelspec": {
      "display_name": "Python 3",
      "name": "python3"
    },
    "language_info": {
      "name": "python"
    }
  },
  "nbformat": 4,
  "nbformat_minor": 0
}
